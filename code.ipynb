{
 "cells": [
  {
   "cell_type": "code",
   "execution_count": 1,
   "metadata": {
    "scrolled": true
   },
   "outputs": [],
   "source": [
    "import snscrape.modules.twitter as sntwitter\n",
    "import pandas as pd\n",
    "import glob\n",
    "import time\n",
    "from retrying import retry"
   ]
  },
  {
   "cell_type": "code",
   "execution_count": 2,
   "metadata": {
    "scrolled": true
   },
   "outputs": [],
   "source": [
    "@retry(wait_random_min= 120000, wait_random_max = 600000)\n",
    "def get_tweets(username):\n",
    "    \n",
    "    localtime = time.asctime( time.localtime(time.time()) )\n",
    "    print(localtime, \"\\t\", f\"{username}\", end=\"：\")\n",
    "    \n",
    "    # Creating list to append tweet data to\n",
    "    tweets_list = []\n",
    "\n",
    "    # seting a max number\n",
    "    # max = 1\n",
    "\n",
    "    # Using TwitterSearchScraper to scrape data and append tweets to list\n",
    "    for i,tweet in enumerate(sntwitter.TwitterSearchScraper(f\"from:{username}\").get_items()):\n",
    "        # if i>max:\n",
    "            # break\n",
    "        tweets_list.append([tweet.user.username, tweet.id, tweet.date, tweet.content, \n",
    "                            tweet.url, tweet.likeCount, tweet.retweetCount, tweet.replyCount,\n",
    "                            tweet.quotedTweet, tweet.quoteCount, tweet.outlinks])\n",
    "\n",
    "    # Creating a dataframe from the tweets list above\n",
    "    tweets_df = pd.DataFrame(tweets_list, columns=[\"username\", \"id\", \"date\", \"content\",\n",
    "                                                  \"url\", \"likecount\", \"retweetcount\", \"replycount\",\n",
    "                                                  \"quotedTweet\", \"quoteCount\", \"outlinks\"])\n",
    "    \n",
    "    print(tweets_df.shape)\n",
    "    \n",
    "    return tweets_df"
   ]
  },
  {
   "cell_type": "code",
   "execution_count": 3,
   "metadata": {},
   
    }
   ],
   "source": [
    "# defining the account name\n",
    "accounts = []
    "\n",
    "for account in accounts:\n",
    "\n",
    "    df_account = get_tweets(username = account)\n",
    "\n",
    "    time.sleep(6.66)\n",
    "\n",
    "    #exporting as an html file\n",
    "    df_account.to_csv(f\"tweets-ceo-raw-{account}.csv\", index=False)"
   ]
  },
  {
   "cell_type": "code",
   "execution_count": 5,
   "metadata": {
    "scrolled": true
   },
   "outputs": [
    {
     "name": "stdout",
     "output_type": "stream",
     "text": [
      "337  ['tweets-ceo-raw-0scarMunozUA.csv', 'tweets-ceo-raw-aartjandegeus.csv', 'tweets-ceo-raw-AAR_JHolmes.csv', 'tweets-ceo-raw-acontos.csv', 'tweets-ceo-raw-ADeChellis22.csv', 'tweets-ceo-raw-adenatfriedman.csv', 'tweets-ceo-raw-AGAlanWilson.csv', 'tweets-ceo-raw-AGLafleyFan.csv', 'tweets-ceo-raw-AGSNYT.csv', 'tweets-ceo-raw-alanmasarek.csv', 'tweets-ceo-raw-AlanSchnitzer.csv', 'tweets-ceo-raw-AlbertBourla.csv', 'tweets-ceo-raw-ALSProcurement.csv', 'tweets-ceo-raw-amarhanspal.csv', 'tweets-ceo-raw-amolinaroli.csv', 'tweets-ceo-raw-andrew_anagnost.csv', 'tweets-ceo-raw-AntonioNeri_HPE.csv', 'tweets-ceo-raw-apgraft.csv', 'tweets-ceo-raw-ArchieBlackSPS.csv', 'tweets-ceo-raw-ArneSorenson.csv', 'tweets-ceo-raw-Artpeck.csv', 'tweets-ceo-raw-asymson.csv', 'tweets-ceo-raw-AxonRick.csv', 'tweets-ceo-raw-BarbaraRentler.csv', 'tweets-ceo-raw-BarryDeluxeCorp.csv', 'tweets-ceo-raw-BCLHMS.csv', 'tweets-ceo-raw-BDahiyat.csv', 'tweets-ceo-raw-BeharelleP.csv', 'tweets-ceo-raw-Benioff.csv', 'tweets-ceo-raw-BestCashBackRCC.csv', 'tweets-ceo-raw-biesrob1.csv', 'tweets-ceo-raw-Bill_Amelio.csv', 'tweets-ceo-raw-bill_angrick.csv', 'tweets-ceo-raw-Bill_Boor.csv', 'tweets-ceo-raw-bkrunner.csv', 'tweets-ceo-raw-BlakeDMoret.csv', 'tweets-ceo-raw-bnapack.csv', 'tweets-ceo-raw-BobbyKotick.csv', 'tweets-ceo-raw-BobSwan.csv', 'tweets-ceo-raw-Bob_McDonald75.csv', 'tweets-ceo-raw-brappraiser.csv', 'tweets-ceo-raw-BrentShaferCEO.csv', 'tweets-ceo-raw-BrettTPonton.csv', 'tweets-ceo-raw-BrianDChambers1.csv', 'tweets-ceo-raw-BriHumphries.csv', 'tweets-ceo-raw-BruceDBroussard.csv', 'tweets-ceo-raw-BruceSchanzer.csv', 'tweets-ceo-raw-BryanMartin8x8.csv', 'tweets-ceo-raw-byjoelanderson.csv', 'tweets-ceo-raw-B_Wagner.csv', 'tweets-ceo-raw-carlbass.csv', 'tweets-ceo-raw-CarstanjenBillc.csv', 'tweets-ceo-raw-CEOCrossCountry.csv', 'tweets-ceo-raw-CEOEcolab.csv', 'tweets-ceo-raw-CEOJamesDimon.csv', 'tweets-ceo-raw-CEOMikeHayford.csv', 'tweets-ceo-raw-CEOMikeJackson.csv', 'tweets-ceo-raw-chaddickerson.csv', 'tweets-ceo-raw-CharlesMeyers.csv', 'tweets-ceo-raw-ChenaultKen.csv', 'tweets-ceo-raw-CHFEssentialCEO.csv', 'tweets-ceo-raw-chrisoddleifson.csv', 'tweets-ceo-raw-ChuckRobbins.csv', 'tweets-ceo-raw-cmalcolmholland.csv', 'tweets-ceo-raw-colinangle.csv', 'tweets-ceo-raw-Corie_Barry.csv', 'tweets-ceo-raw-DamonHininger.csv', 'tweets-ceo-raw-DanielHamburger.csv', 'tweets-ceo-raw-DanRDimicco.csv', 'tweets-ceo-raw-Dan_Schulman.csv', 'tweets-ceo-raw-DaveLiniger.csv', 'tweets-ceo-raw-Dave_Wentz.csv', 'tweets-ceo-raw-davidhenkes.csv', 'tweets-ceo-raw-DavidJHenshall.csv', 'tweets-ceo-raw-DavidNovakLead.csv', 'tweets-ceo-raw-davidwhult.csv', 'tweets-ceo-raw-davidwkenny.csv', 'tweets-ceo-raw-DavidZaslav.csv', 'tweets-ceo-raw-DCCleanEnergy.csv', 'tweets-ceo-raw-Derek_Leathers.csv', 'tweets-ceo-raw-devinwenig.csv', 'tweets-ceo-raw-DhannahDave.csv', 'tweets-ceo-raw-dickc.csv', 'tweets-ceo-raw-DinoRossiWA.csv', 'tweets-ceo-raw-dionweisler.csv', 'tweets-ceo-raw-Dirkvandeput.csv', 'tweets-ceo-raw-dkhos.csv', 'tweets-ceo-raw-dmcmillon17.csv', 'tweets-ceo-raw-DonThompson_Jr.csv', 'tweets-ceo-raw-dossip.csv', 'tweets-ceo-raw-DougBryantQDEL.csv', 'tweets-ceo-raw-DougLebda.csv', 'tweets-ceo-raw-DPosted.csv', 'tweets-ceo-raw-DrakeEileen.csv', 'tweets-ceo-raw-drjmariomolina.csv', 'tweets-ceo-raw-DTLougee.csv', 'tweets-ceo-raw-ECapel.csv', 'tweets-ceo-raw-echoceo.csv', 'tweets-ceo-raw-ed_bastian.csv', 'tweets-ceo-raw-FakeBradTilden.csv', 'tweets-ceo-raw-FakeDeltaCEO.csv', 'tweets-ceo-raw-FakeUnitedJeff.csv', 'tweets-ceo-raw-FarceDougParker.csv', 'tweets-ceo-raw-fdesouza.csv', 'tweets-ceo-raw-FDFarmer.csv', 'tweets-ceo-raw-FrankBlake.csv', 'tweets-ceo-raw-GaryJGoldberg2.csv', 'tweets-ceo-raw-gary_burnison.csv', 'tweets-ceo-raw-gary_kelly.csv', 'tweets-ceo-raw-Gary_Norcross.csv', 'tweets-ceo-raw-gcolony.csv', 'tweets-ceo-raw-GeneracCEO.csv', 'tweets-ceo-raw-GeorgeOliverJCI.csv', 'tweets-ceo-raw-GerrardSchmid.csv', 'tweets-ceo-raw-GinaDrosos.csv', 'tweets-ceo-raw-GinniRometty.csv', 'tweets-ceo-raw-gkstapley.csv', 'tweets-ceo-raw-gregbrownmoto.csv', 'tweets-ceo-raw-greglovesmovies.csv', 'tweets-ceo-raw-GregoryMilzcik.csv', 'tweets-ceo-raw-GregStrakosch.csv', 'tweets-ceo-raw-gttuttle.csv', 'tweets-ceo-raw-HandlerRich.csv', 'tweets-ceo-raw-hansvestberg.csv', 'tweets-ceo-raw-HarryatNIC.csv', 'tweets-ceo-raw-HessamNadji.csv', 'tweets-ceo-raw-HowardBergerMD.csv', 'tweets-ceo-raw-HowardSchultz.csv', 'tweets-ceo-raw-iammikedennison.csv', 'tweets-ceo-raw-IAmPapaJohn.csv', 'tweets-ceo-raw-IanMillerCook.csv', 'tweets-ceo-raw-Iarrypage.csv', 'tweets-ceo-raw-IloveIncyte.csv', 'tweets-ceo-raw-IndraNooyi.csv', 'tweets-ceo-raw-IntuitBrad.csv', 'tweets-ceo-raw-IridiumBoss.csv', 'tweets-ceo-raw-jack.csv', 'tweets-ceo-raw-JackCassidyCEO.csv', 'tweets-ceo-raw-JamesTruchard.csv', 'tweets-ceo-raw-JasonDLippert.csv', 'tweets-ceo-raw-jayottoson.csv', 'tweets-ceo-raw-jbaliff.csv', 'tweets-ceo-raw-jbhuntceo.csv', 'tweets-ceo-raw-jdrollins3.csv', 'tweets-ceo-raw-JeffBezos.csv', 'tweets-ceo-raw-JeffImmelt.csv', 'tweets-ceo-raw-JeffreyEttinger.csv', 'tweets-ceo-raw-JeffriesBoy69.csv', 'tweets-ceo-raw-jeffyabuki.csv', 'tweets-ceo-raw-Jeff_Graves_63.csv', 'tweets-ceo-raw-jeremys.csv', 'tweets-ceo-raw-JerryAtkin.csv', 'tweets-ceo-raw-jgsilverman.csv', 'tweets-ceo-raw-jimfishwm.csv', 'tweets-ceo-raw-JimFitterling.csv', 'tweets-ceo-raw-JimHeppelmann.csv', 'tweets-ceo-raw-JimT1726.csv', 'tweets-ceo-raw-jjones.csv', 'tweets-ceo-raw-jmkw24.csv', 'tweets-ceo-raw-JoeBBurton.csv', 'tweets-ceo-raw-JoeKiani.csv', 'tweets-ceo-raw-JohnAddisonGA.csv', 'tweets-ceo-raw-JohnFlannery_GE.csv', 'tweets-ceo-raw-JohnGibson35.csv', 'tweets-ceo-raw-JohnJamesHaley.csv', 'tweets-ceo-raw-JohnLegere.csv', 'tweets-ceo-raw-JohnTChambers.csv', 'tweets-ceo-raw-JonasPrising.csv', 'tweets-ceo-raw-jonoringer.csv', 'tweets-ceo-raw-jory_marino.csv', 'tweets-ceo-raw-joseluislaparte.csv', 'tweets-ceo-raw-JoseRMas.csv', 'tweets-ceo-raw-jrfm0528.csv', 'tweets-ceo-raw-J_CCollins.csv', 'tweets-ceo-raw-Karl_McDonnell.csv', 'tweets-ceo-raw-kaufer.csv', 'tweets-ceo-raw-KentThiry.csv', 'tweets-ceo-raw-KenXieFortinet.csv', 'tweets-ceo-raw-Kevinalobo.csv', 'tweets-ceo-raw-Kevin_Johnson.csv', 'tweets-ceo-raw-KirillTatarinov.csv', 'tweets-ceo-raw-KornbergDavid.csv', 'tweets-ceo-raw-KRajagopalan_.csv', 'tweets-ceo-raw-LambertoAndreo.csv', 'tweets-ceo-raw-LanceUggla.csv', 'tweets-ceo-raw-larryculpjr.csv', 'tweets-ceo-raw-larryellison.csv', 'tweets-ceo-raw-LarryMerloCVS.csv', 'tweets-ceo-raw-LearningMoment.csv', 'tweets-ceo-raw-LisaSu.csv', 'tweets-ceo-raw-lisawwardell.csv', 'tweets-ceo-raw-LKurzius.csv', 'tweets-ceo-raw-lloydblankfein.csv', 'tweets-ceo-raw-LucaSavi4ITT.csv', 'tweets-ceo-raw-LynnJurich.csv', 'tweets-ceo-raw-ManpowerGroupJJ.csv', 'tweets-ceo-raw-MarcChardon.csv', 'tweets-ceo-raw-MarcLautenbach.csv', 'tweets-ceo-raw-MarillynHewson2.csv', 'tweets-ceo-raw-MarinerKemper.csv', 'tweets-ceo-raw-markbtempleton.csv', 'tweets-ceo-raw-markcosby_stan.csv', 'tweets-ceo-raw-MarkOkerstrom.csv', 'tweets-ceo-raw-MarkVHurd.csv', 'tweets-ceo-raw-MarvinREllison.csv', 'tweets-ceo-raw-MaryNDillon.csv', 'tweets-ceo-raw-Masoniam.csv', 'tweets-ceo-raw-MattMaddox_.csv', 'tweets-ceo-raw-mbmcrae.csv', 'tweets-ceo-raw-MegWhitman.csv', 'tweets-ceo-raw-MichaelCorbat17.csv', 'tweets-ceo-raw-MichaelLorber.csv', 'tweets-ceo-raw-Michael_Rapino.csv', 'tweets-ceo-raw-michael_saylor.csv', 'tweets-ceo-raw-MickyArison.csv', 'tweets-ceo-raw-MicronCEO.csv', 'tweets-ceo-raw-mihaelhp.csv', 'tweets-ceo-raw-MikeGianoni.csv', 'tweets-ceo-raw-MikeMinogueABMD.csv', 'tweets-ceo-raw-mindygrossman.csv', 'tweets-ceo-raw-MitchBarns.csv', 'tweets-ceo-raw-MrColinShannon.csv', 'tweets-ceo-raw-MRCY_CEO.csv', 'tweets-ceo-raw-mtbarra.csv', 'tweets-ceo-raw-muhtarkent.csv', 'tweets-ceo-raw-NetAppCEO.csv', 'tweets-ceo-raw-NiccoloDeMasi.csv', 'tweets-ceo-raw-nigeltravis.csv', 'tweets-ceo-raw-no658ea3.csv', 'tweets-ceo-raw-nonamemarin.csv', 'tweets-ceo-raw-NormMiller.csv', 'tweets-ceo-raw-NotBrianNiccol.csv', 'tweets-ceo-raw-NRGMauricio.csv', 'tweets-ceo-raw-Officer84504433.csv', 'tweets-ceo-raw-Officialzuckerb.csv', 'tweets-ceo-raw-OmarIshrak.csv', 'tweets-ceo-raw-oshy.csv', 'tweets-ceo-raw-OZgregCLARK.csv', 'tweets-ceo-raw-PAltabef.csv', 'tweets-ceo-raw-PatrickKDecker.csv', 'tweets-ceo-raw-PaulKusserow.csv', 'tweets-ceo-raw-PaulMBlack.csv', 'tweets-ceo-raw-PaulSagan1.csv', 'tweets-ceo-raw-paulsarvadi_.csv', 'tweets-ceo-raw-Paul_E_Jacobs.csv', 'tweets-ceo-raw-PhilipMezey.csv', 'tweets-ceo-raw-phwalker33.csv', 'tweets-ceo-raw-poppepk.csv', 'tweets-ceo-raw-pvbhenry.csv', 'tweets-ceo-raw-ramirahim.csv', 'tweets-ceo-raw-ramonlaguarta.csv', 'tweets-ceo-raw-RandyATT.csv', 'tweets-ceo-raw-randygarutti.csv', 'tweets-ceo-raw-ratzesberger.csv', 'tweets-ceo-raw-raynesteinberg.csv', 'tweets-ceo-raw-realandrewilson.csv', 'tweets-ceo-raw-ReeceKurtenbach.csv', 'tweets-ceo-raw-reedhastings.csv', 'tweets-ceo-raw-reeserichard.csv', 'tweets-ceo-raw-ResMedMick.csv', 'tweets-ceo-raw-richard00857062.csv', 'tweets-ceo-raw-RichBoehne.csv', 'tweets-ceo-raw-RickGoingsTUP.csv', 'tweets-ceo-raw-ric_campo.csv', 'tweets-ceo-raw-RobertIger.csv', 'tweets-ceo-raw-robert_quincey.csv', 'tweets-ceo-raw-RobinRaina_RRF.csv', 'tweets-ceo-raw-RobLoCascio.csv', 'tweets-ceo-raw-RoryPRead.csv', 'tweets-ceo-raw-rupertmurdoch.csv', 'tweets-ceo-raw-rustyfrantz.csv', 'tweets-ceo-raw-rweiss8.csv', 'tweets-ceo-raw-Samuel_HazenHCA.csv', 'tweets-ceo-raw-SandgaardThomas.csv', 'tweets-ceo-raw-sandrodinello.csv', 'tweets-ceo-raw-sasan_goodarzi.csv', 'tweets-ceo-raw-satyanadella.csv', 'tweets-ceo-raw-scanman57.csv', 'tweets-ceo-raw-ScottSmithSonic.csv', 'tweets-ceo-raw-SeanM_OConnor.csv', 'tweets-ceo-raw-SelimBassoul.csv', 'tweets-ceo-raw-sflanders1.csv', 'tweets-ceo-raw-sgsyes0619.csv', 'tweets-ceo-raw-simonelli_l.csv', 'tweets-ceo-raw-smclements.csv', 'tweets-ceo-raw-sociopathceo.csv', 'tweets-ceo-raw-soulsurfer62.csv', 'tweets-ceo-raw-sshimoga28.csv', 'tweets-ceo-raw-stephenstang.csv', 'tweets-ceo-raw-SteveCollis_ABC.csv', 'tweets-ceo-raw-SteveEasterbrk.csv', 'tweets-ceo-raw-stevejdemetriou.csv', 'tweets-ceo-raw-stevemollenkopf.csv', 'tweets-ceo-raw-stevemritchie.csv', 'tweets-ceo-raw-stevenasugarman.csv', 'tweets-ceo-raw-StevenSpinner.csv', 'tweets-ceo-raw-Steven_Ballmer.csv', 'tweets-ceo-raw-stevewynnfacts.csv', 'tweets-ceo-raw-Steve_Beauchamp.csv', 'tweets-ceo-raw-Storchy1.csv', 'tweets-ceo-raw-SuccessMatters.csv', 'tweets-ceo-raw-sundarpichai.csv', 'tweets-ceo-raw-SusanSalka.csv', 'tweets-ceo-raw-SYFMKeane.csv', 'tweets-ceo-raw-SYKESCEO.csv', 'tweets-ceo-raw-tandasb.csv', 'tweets-ceo-raw-TechTargetCEO.csv', 'tweets-ceo-raw-TedWahlHCSG.csv', 'tweets-ceo-raw-terry_gregg.csv', 'tweets-ceo-raw-ThomasAFanning.csv', 'tweets-ceo-raw-tim_cook.csv', 'tweets-ceo-raw-toddpenegor33.csv', 'tweets-ceo-raw-tomkleintk.csv', 'tweets-ceo-raw-TomLeightonAKAM.csv', 'tweets-ceo-raw-TomWilsonALL.csv', 'tweets-ceo-raw-Tom_Hayes.csv', 'tweets-ceo-raw-tvasos22.csv', 'tweets-ceo-raw-TysonFoodsCEO.csv', 'tweets-ceo-raw-UnumRick.csv', 'tweets-ceo-raw-USPhChris.csv', 'tweets-ceo-raw-USReed17.csv', 'tweets-ceo-raw-VickiMHolt.csv', 'tweets-ceo-raw-VicLLund.csv', 'tweets-ceo-raw-VikVerma8x8.csv', 'tweets-ceo-raw-VinceMcMahon.csv', 'tweets-ceo-raw-VivekRShah.csv', 'tweets-ceo-raw-WaltBettinger.csv', 'tweets-ceo-raw-WarrenBuffett.csv', 'tweets-ceo-raw-WesternUnionCEO.csv', 'tweets-ceo-raw-willywalk.csv', 'tweets-ceo-raw-WingstopCEO.csv', 'tweets-ceo-raw-wkheiden.csv', 'tweets-ceo-raw-wymanroberts.csv', 'tweets-ceo-raw-YeagyBrent.csv', 'tweets-ceo-raw-YuvalWasserman.csv', 'tweets-ceo-raw-ZelnickStrauss.csv', 'tweets-ceo-raw-_bgoldner.csv']\n"
     ]
    }
   ],
   "source": [
    "#geting the file names\n",
    "filenames = glob.glob(\"tweets-ceo-raw-*.csv\")\n",
    "print(len(filenames), \"\", filenames)\n",
    "\n",
    "#combining files\n",
    "dataframes = [pd.read_csv(filename) for filename in filenames]\n",
    "df = pd.concat(dataframes)\n",
    "df.shape\n",
    "\n",
    "#generating the final file\n",
    "df.to_csv(\"tweets-ceo.csv\", index=False)"
   ]
  },
  {
   "cell_type": "code",
   "execution_count": null,
   "metadata": {
    "scrolled": true
   },
   "outputs": [],
   "source": []
  },
  {
   "cell_type": "code",
   "execution_count": null,
   "metadata": {
    "scrolled": true
   },
   "outputs": [],
   "source": [
    "[\"greglovesmovies\", \"chrisoddleifson\", \"PatrickKDecker\", \"fdesouza\", \"BryanMartin8x8\", \"VicLLund\", \"ResMedMick\", \"J_CCollins\", \"larryellison\", \"KentThiry\", \"sociopathceo\", \"amolinaroli\", \"NRGMauricio\", \"MrColinShannon\", \"GeorgeOliverJCI\", \"tim_cook\", \"jrfm0528\", \"BarbaraRentler\", \"WaltBettinger\", \"Michael_Rapino\", \"FrankBlake\", \"rweiss8\", \"_bgoldner\", \"BrianDChambers1\", \"JoeBBurton\", \"ArneSorenson\", \"VickiMHolt\", \"MarkVHurd\", \"SuccessMatters\", \"MarkOkerstrom\", \"CHFEssentialCEO\", \"GregStrakosch\", \"IanMillerCook\", \"CEOMikeJackson\", \"lisawwardell\", \"JohnTChambers\", \"mindygrossman\", \"AGLafleyFan\", \"adenatfriedman\", \"Masoniam\", \"drjmariomolina\", \"Samuel_HazenHCA\", \"AAR_JHolmes\", \"MarvinREllison\", \"Steve_Beauchamp\", \"Kevinalobo\", \"simonelli_l\", \"TomWilsonALL\", \"LarryMerloCVS\", \"ReeceKurtenbach\", \"MarcLautenbach\", \"ric_campo\", \"SteveEasterbrk\", \"DavidNovakLead\", \"JohnLegere\", \"GeneracCEO\", \"JohnGibson35\", \"JohnFlannery_GE\", \"ZelnickStrauss\", \"MattMaddox_\", \"ratzesberger\", \"JimT1726\", \"aartjandegeus\", \"JimFitterling\", \"dmcmillon17\", \"RoryPRead\", \"DougLebda\", \"acontos\", \"Derek_Leathers\", \"JeffBezos\", \"stevemritchie\", \"JeffImmelt\", \"SusanSalka\", \"biesrob1\", \"CarstanjenBillc\", \"dkhos\", \"WesternUnionCEO\", \"IloveIncyte\", \"SeanM_OConnor\", \"KenXieFortinet\", \"BestCashBackRCC\", \"cmalcolmholland\", \"HowardBergerMD\", \"PhilipMezey\", \"BobbyKotick\", \"larryculpjr\", \"CEOEcolab\", \"Officer84504433\", \"asymson\", \"satyanadella\", \"colinangle\", \"BrentShaferCEO\", \"jmkw24\", \"Dirkvandeput\", \"ThomasAFanning\", \"byjoelanderson\", \"MichaelLorber\", \"FakeUnitedJeff\", \"FakeDeltaCEO\", \"GaryJGoldberg2\", \"HessamNadji\", \"AlanSchnitzer\", \"DrakeEileen\", \"JeffreyEttinger\", \"GerrardSchmid\", \"terry_gregg\", \"sshimoga28\", \"NormMiller\", \"DinoRossiWA\", \"MichaelCorbat17\", \"LambertoAndreo\", \"kaufer\", \"DavidJHenshall\", \"davidwkenny\", \"pvbhenry\", \"MarcChardon\", \"Dan_Schulman\", \"ramonlaguarta\", \"stevenasugarman\", \"MikeMinogueABMD\", \"DTLougee\", \"DCCleanEnergy\", \"andrew_anagnost\", \"Bob_McDonald75\", \"VivekRShah\", \"muhtarkent\", \"davidhenkes\", \"sundarpichai\", \"Gary_Norcross\", \"HandlerRich\", \"JimHeppelmann\", \"MarinerKemper\", \"markbtempleton\", \"gkstapley\", \"amarhanspal\", \"jimfishwm\", \"Kevin_Johnson\", \"WarrenBuffett\", \"BrettTPonton\", \"IAmPapaJohn\", \"jbaliff\", \"gttuttle\", \"BobSwan\", \"MRCY_CEO\", \"Bill_Boor\", \"CharlesMeyers\", \"ArchieBlackSPS\", \"reedhastings\", \"RobinRaina_RRF\", \"mihaelhp\", \"PaulSagan1\", \"wkheiden\", \"BDahiyat\", \"MickyArison\", \"michael_saylor\", \"AxonRick\", \"DonThompson_Jr\", \"JonasPrising\", \"AntonioNeri_HPE\", \"Storchy1\", \"jeffyabuki\", \"NetAppCEO\", \"MaryNDillon\", \"VinceMcMahon\", \"AGAlanWilson\", \"RandyATT\", \"ManpowerGroupJJ\", \"0scarMunozUA\", \"stevewynnfacts\", \"jbhuntceo\", \"BCLHMS\", \"willywalk\", \"paulsarvadi_\", \"FakeBradTilden\", \"dossip\", \"DanielHamburger\", \"Dave_Wentz\", \"soulsurfer62\", \"UnumRick\", \"MicronCEO\", \"BruceDBroussard\", \"GinniRometty\", \"CEOJamesDimon\", \"stevejdemetriou\", \"KornbergDavid\", \"Iarrypage\", \"Jeff_Graves_63\", \"JoseRMas\", \"no658ea3\", \"MarillynHewson2\", \"VikVerma8x8\", \"ScottSmithSonic\", \"RichBoehne\", \"BriHumphries\", \"sasan_goodarzi\", \"poppepk\", \"BeharelleP\", \"RobertIger\", \"LucaSavi4ITT\", \"robert_quincey\", \"DougBryantQDEL\", \"IntuitBrad\", \"sandrodinello\", \"bill_angrick\", \"realandrewilson\", \"Bill_Amelio\", \"markcosby_stan\", \"GinaDrosos\", \"jgsilverman\", \"tomkleintk\", \"PaulMBlack\", \"jeremys\", \"PaulKusserow\", \"KirillTatarinov\", \"CEOCrossCountry\", \"JeffriesBoy69\", \"smclements\", \"nigeltravis\", \"YeagyBrent\", \"mtbarra\", \"davidwhult\", \"USReed17\", \"MikeGianoni\", \"LanceUggla\", \"AGSNYT\", \"LisaSu\", \"FDFarmer\", \"Artpeck\", \"NotBrianNiccol\", \"CEOMikeHayford\", \"PAltabef\", \"SteveCollis_ABC\", \"carlbass\", \"ChuckRobbins\", \"ALSProcurement\", \"richard00857062\", \"iammikedennison\", \"randygarutti\", \"GregoryMilzcik\", \"LKurzius\", \"B_Wagner\", \"AlbertBourla\", \"hansvestberg\", \"JackCassidyCEO\", \"BruceSchanzer\", \"jack\", \"TechTargetCEO\", \"DavidZaslav\", \"nonamemarin\", \"gregbrownmoto\", \"ChenaultKen\", \"Tom_Hayes\", \"sflanders1\", \"gary_burnison\", \"raynesteinberg\", \"ed_bastian\", \"jayottoson\", \"Corie_Barry\", \"DaveLiniger\", \"SandgaardThomas\", \"JasonDLippert\", \"dionweisler\", \"dickc\", \"devinwenig\", \"Paul_E_Jacobs\", \"sgsyes0619\", \"DPosted\", \"jdrollins3\", \"DhannahDave\", \"phwalker33\", \"LearningMoment\", \"HowardSchultz\", \"scanman57\", \"brappraiser\", \"bnapack\", \"JohnAddisonGA\", \"ADeChellis22\", \"DanRDimicco\", \"SelimBassoul\", \"tvasos22\", \"DamonHininger\", \"gcolony\", \"reeserichard\", \"JoeKiani\", \"RickGoingsTUP\", \"TysonFoodsCEO\", \"Benioff\", \"alanmasarek\", \"jonoringer\", \"stephenstang\", \"SYKESCEO\", \"WingstopCEO\", \"NiccoloDeMasi\", \"IridiumBoss\", \"BarryDeluxeCorp\", \"Karl_McDonnell\", \"OZgregCLARK\", \"HarryatNIC\", \"OmarIshrak\", \"tandasb\", \"Steven_Ballmer\", \"wymanroberts\", \"oshy\", \"jory_marino\", \"ECapel\", \"rustyfrantz\", \"BlakeDMoret\", \"TomLeightonAKAM\", \"joseluislaparte\", \"RobLoCascio\", \"ramirahim\", \"USPhChris\", \"FarceDougParker\", \"toddpenegor33\", \"Officialzuckerb\", \"JerryAtkin\", \"chaddickerson\", \"JohnJamesHaley\", \"rupertmurdoch\", \"IndraNooyi\", \"MitchBarns\", \"stevemollenkopf\", \"gary_kelly\", \"JamesTruchard\", \"YuvalWasserman\", \"bkrunner\", \"MegWhitman\", \"jjones\", \"LynnJurich\", \"StevenSpinner\", \"KRajagopalan_\", \"echoceo\", \"SYFMKeane\", \"mbmcrae\", \"apgraft\", \"TedWahlHCSG\", \"lloydblankfein\"]"
   ]
  },
  {
   "cell_type": "code",
   "execution_count": null,
   "metadata": {},
   "outputs": [],
   "source": []
  }
 ],
 "metadata": {
  "kernelspec": {
   "display_name": "Python 3",
   "language": "python",
   "name": "python3"
  },
  "language_info": {
   "codemirror_mode": {
    "name": "ipython",
    "version": 3
   },
   "file_extension": ".py",
   "mimetype": "text/x-python",
   "name": "python",
   "nbconvert_exporter": "python",
   "pygments_lexer": "ipython3",
   "version": "3.8.3"
  }
 },
 "nbformat": 4,
 "nbformat_minor": 4
}
